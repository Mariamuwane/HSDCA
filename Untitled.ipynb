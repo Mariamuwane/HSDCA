{
 "cells": [
  {
   "cell_type": "code",
   "execution_count": 1,
   "id": "f593b6fa",
   "metadata": {},
   "outputs": [],
   "source": [
    "# pip install pymysql\n",
    "from matplotlib import pyplot as plt\n",
    "import numpy as np\n",
    "import seaborn as sns\n",
    "plt.style.use(\"ggplot\")\n",
    "import pandas as pd\n",
    "# import pymysql\n",
    "# import pymysql.cursors\n",
    "import random\n",
    "import sys\n",
    "# print (sys.version)\n",
    "# sudo conda install pymysql"
   ]
  },
  {
   "cell_type": "code",
   "execution_count": 1,
   "id": "93666126",
   "metadata": {},
   "outputs": [],
   "source": [
    "# connection = pymysql.connect(host='localhost',\n",
    "#                              user='root',\n",
    "#                              password='',\n",
    "#                              database='jumia',\n",
    "#                              charset ='utf8mb4',\n",
    "#                              cursorclass = pymysql.cursors.DictCursor)\n",
    "\n",
    "# with connection.cursor() as cursor:\n",
    "#     # Read a single record\n",
    "#     sql = \"SELECT `id`, `Name_of_Phone`, `Price` FROM `iphones`\"\n",
    "#     cursor.execute(sql)\n",
    "\n",
    "#     result = cursor.fetchall()\n",
    "#     print(result)\n",
    "    \n",
    "# print()\n",
    "# print(\"create connection\")\n",
    "# import mysql.connector\n",
    "# mydb = mysql.connector.connect(host='localhost',\n",
    "#                              user='root',\n",
    "#                              password='',\n",
    "#                              database='jumia',\n",
    "#                              charset ='utf8mb4',\n",
    "#                              cursorclass = mysql.cursors.DictCursor)\n",
    "\n",
    "# with connection.cursor() as cursor:\n",
    "#     # Read a single record\n",
    "#     sql = \"SELECT `id`, `Name_of_Phone`, `Price` FROM `iphones`\"\n",
    "#     cursor.execute(sql)\n",
    "\n",
    "#     result = cursor.fetchall()\n",
    "#     print(result)\n"
   ]
  },
  {
   "cell_type": "code",
   "execution_count": 2,
   "id": "6bda8177",
   "metadata": {},
   "outputs": [],
   "source": [
    "import requests\n",
    "import bs4\n",
    "from bs4 import BeautifulSoup\n",
    "import pandas as pd"
   ]
  },
  {
   "cell_type": "code",
   "execution_count": 9,
   "id": "6962c2db",
   "metadata": {},
   "outputs": [],
   "source": [
    "jumiaURL = \"https://www.jumia.com.ng\"\n",
    "headers = {'User-Agent': 'Mozilla/5.0 (Windows NT 10.0; Win64; x64) AppleWebKit/537.36 (KHTML, like Gecko) Chrome/89.0.4389.82 Safari/537.36'}\n"
   ]
  },
  {
   "cell_type": "code",
   "execution_count": 11,
   "id": "19d08aab",
   "metadata": {},
   "outputs": [
    {
     "data": {
      "text/plain": [
       "[<div class=\"info\"><h3 class=\"name\">Apple Refurbished (Class B) - Apple IPhone 6 Plus 1GB RAM+64GB -Gold IPhone6P</h3><div class=\"prc\">₦ 58,000</div><div class=\"s-prc-w\"><div class=\"old\">₦ 90,000</div><div class=\"tag _dsct _sm\">36%</div></div><div class=\"rev\"><div class=\"stars _s\">5 out of 5<div class=\"in\" style=\"width:100%\"></div></div>(4)</div><svg aria-label=\"Express Shipping\" class=\"ic xprss\" height=\"10\" viewbox=\"0 0 114 12\" width=\"94\"><use xlink:href=\"https://www.jumia.com.ng/assets_he/images/i-shop-jumia.c8de1c55.svg#express\"></use></svg><p class=\"shipp\">Jumia Express items in your order will be delivered for free (Lagos &amp; Abuja only, excluding large items)</p></div>,\n",
       " <div class=\"info\"><h3 class=\"name\">Apple Renewed - Apple IPhone X 3GB RAM+64GB ROM - Space Gray</h3><div class=\"prc\">₦ 183,000</div><div class=\"s-prc-w\"><div class=\"old\">₦ 602,120</div><div class=\"tag _dsct _sm\">70%</div></div><div class=\"rev\"><div class=\"stars _s\">5 out of 5<div class=\"in\" style=\"width:100%\"></div></div>(1)</div><svg aria-label=\"Express Shipping\" class=\"ic xprss\" height=\"10\" viewbox=\"0 0 114 12\" width=\"94\"><use xlink:href=\"https://www.jumia.com.ng/assets_he/images/i-shop-jumia.c8de1c55.svg#express\"></use></svg><p class=\"shipp\">Jumia Express items in your order will be delivered for free (Lagos &amp; Abuja only, excluding large items)</p></div>,\n",
       " <div class=\"info\"><h3 class=\"name\">Apple Refurbished (Class B) - Apple IPhone 6 Plus 1GB RAM+64GB -Silver IPhone6P</h3><div class=\"prc\">₦ 58,000</div><div class=\"s-prc-w\"><div class=\"old\">₦ 90,000</div><div class=\"tag _dsct _sm\">36%</div></div><div class=\"rev\"><div class=\"stars _s\">5 out of 5<div class=\"in\" style=\"width:100%\"></div></div>(2)</div><svg aria-label=\"Express Shipping\" class=\"ic xprss\" height=\"10\" viewbox=\"0 0 114 12\" width=\"94\"><use xlink:href=\"https://www.jumia.com.ng/assets_he/images/i-shop-jumia.c8de1c55.svg#express\"></use></svg><p class=\"shipp\">Jumia Express items in your order will be delivered for free (Lagos &amp; Abuja only, excluding large items)</p></div>,\n",
       " <div class=\"info\"><h3 class=\"name\">Apple Renewed  -  Apple IPhone XR 3GB RAM+64GB ROM  - White</h3><div class=\"prc\">₦ 196,000</div><div class=\"s-prc-w\"><div class=\"old\">₦ 641,300</div><div class=\"tag _dsct _sm\">69%</div></div><svg aria-label=\"Express Shipping\" class=\"ic xprss\" height=\"10\" viewbox=\"0 0 114 12\" width=\"94\"><use xlink:href=\"https://www.jumia.com.ng/assets_he/images/i-shop-jumia.c8de1c55.svg#express\"></use></svg><p class=\"shipp\">Jumia Express items in your order will be delivered for free (Lagos &amp; Abuja only, excluding large items)</p></div>,\n",
       " <div class=\"info\"><h3 class=\"name\">Apple Refurbished (Class B) - Apple IPhone 6 Plus 1GB RAM+16GB -Gold Iphone6P</h3><div class=\"prc\">₦ 53,800</div><div class=\"s-prc-w\"><div class=\"old\">₦ 100,000</div><div class=\"tag _dsct _sm\">46%</div></div><div class=\"rev\"><div class=\"stars _s\">5 out of 5<div class=\"in\" style=\"width:100%\"></div></div>(1)</div><svg aria-label=\"Express Shipping\" class=\"ic xprss\" height=\"10\" viewbox=\"0 0 114 12\" width=\"94\"><use xlink:href=\"https://www.jumia.com.ng/assets_he/images/i-shop-jumia.c8de1c55.svg#express\"></use></svg><p class=\"shipp\">Jumia Express items in your order will be delivered for free (Lagos &amp; Abuja only, excluding large items)</p></div>,\n",
       " <div class=\"info\"><h3 class=\"name\">Dana Power Bank 10400 Mah LED Display IPHONE&amp;MICRO INPUT</h3><div class=\"prc\">₦ 4,250</div><div class=\"s-prc-w\"><div class=\"old\">₦ 9,000</div><div class=\"tag _dsct _sm\">53%</div></div><div class=\"rev\"><div class=\"stars _s\">3.9 out of 5<div class=\"in\" style=\"width:78%\"></div></div>(4951)</div><svg aria-label=\"Express Shipping\" class=\"ic xprss\" height=\"10\" viewbox=\"0 0 114 12\" width=\"94\"><use xlink:href=\"https://www.jumia.com.ng/assets_he/images/i-shop-jumia.c8de1c55.svg#express\"></use></svg><p class=\"shipp\">Jumia Express items in your order will be delivered for free (Lagos &amp; Abuja only, excluding large items)</p></div>,\n",
       " <div class=\"info\"><h3 class=\"name\">Apple Refurbished (Class B) - Apple IPhone 6S Plus 2GB RAM+128GB -Rose Gold Iphone6sp</h3><div class=\"prc\">₦ 83,000</div><div class=\"s-prc-w\"><div class=\"old\">₦ 140,000</div><div class=\"tag _dsct _sm\">41%</div></div><div class=\"rev\"><div class=\"stars _s\">5 out of 5<div class=\"in\" style=\"width:100%\"></div></div>(2)</div><svg aria-label=\"Express Shipping\" class=\"ic xprss\" height=\"10\" viewbox=\"0 0 114 12\" width=\"94\"><use xlink:href=\"https://www.jumia.com.ng/assets_he/images/i-shop-jumia.c8de1c55.svg#express\"></use></svg><p class=\"shipp\">Jumia Express items in your order will be delivered for free (Lagos &amp; Abuja only, excluding large items)</p></div>,\n",
       " <div class=\"info\"><h3 class=\"name\">Apple Refurbished (Class B) - Apple IPhone 6 Plus 1GB RAM+64GB -Grey IPhone6P</h3><div class=\"prc\">₦ 58,000</div><div class=\"s-prc-w\"><div class=\"old\">₦ 90,000</div><div class=\"tag _dsct _sm\">36%</div></div><div class=\"rev\"><div class=\"stars _s\">5 out of 5<div class=\"in\" style=\"width:100%\"></div></div>(2)</div><svg aria-label=\"Express Shipping\" class=\"ic xprss\" height=\"10\" viewbox=\"0 0 114 12\" width=\"94\"><use xlink:href=\"https://www.jumia.com.ng/assets_he/images/i-shop-jumia.c8de1c55.svg#express\"></use></svg><p class=\"shipp\">Jumia Express items in your order will be delivered for free (Lagos &amp; Abuja only, excluding large items)</p></div>,\n",
       " <div class=\"info\"><h3 class=\"name\">Apple Renewed - Apple IPhone 6S 2GB RAM+32GB ROM - Space Gray</h3><div class=\"prc\">₦ 80,487</div><div class=\"s-prc-w\"><div class=\"old\">₦ 136,043</div><div class=\"tag _dsct _sm\">41%</div></div><div class=\"rev\"><div class=\"stars _s\">4 out of 5<div class=\"in\" style=\"width:80%\"></div></div>(28)</div><svg aria-label=\"Express Shipping\" class=\"ic xprss\" height=\"10\" viewbox=\"0 0 114 12\" width=\"94\"><use xlink:href=\"https://www.jumia.com.ng/assets_he/images/i-shop-jumia.c8de1c55.svg#express\"></use></svg><p class=\"shipp\">Jumia Express items in your order will be delivered for free (Lagos &amp; Abuja only, excluding large items)</p></div>,\n",
       " <div class=\"info\"><div class=\"tag _glb _sm\">Shipped from abroad</div><h3 class=\"name\">For  IPhone 11 Pro Max 2019 Magnet Adsorption Double-sided Tempered Gl Metal Cover For IPhone X XR XS MAX 8 7 6 6S Plus(#Gold) SHA</h3><div class=\"prc\">₦ 7,019</div><div class=\"s-prc-w\"><div class=\"old\">₦ 10,628</div><div class=\"tag _dsct _sm\">34%</div></div></div>,\n",
       " <div class=\"info\"><h3 class=\"name\">Apple Refurbished (Class B) - Apple IPhone 6 Plus 1GB RAM+16GB -Silver Iphone6P</h3><div class=\"prc\">₦ 53,800</div><div class=\"s-prc-w\"><div class=\"old\">₦ 100,000</div><div class=\"tag _dsct _sm\">46%</div></div><div class=\"rev\"><div class=\"stars _s\">5 out of 5<div class=\"in\" style=\"width:100%\"></div></div>(1)</div><svg aria-label=\"Express Shipping\" class=\"ic xprss\" height=\"10\" viewbox=\"0 0 114 12\" width=\"94\"><use xlink:href=\"https://www.jumia.com.ng/assets_he/images/i-shop-jumia.c8de1c55.svg#express\"></use></svg><p class=\"shipp\">Jumia Express items in your order will be delivered for free (Lagos &amp; Abuja only, excluding large items)</p></div>,\n",
       " <div class=\"info\"><h3 class=\"name\">Apple Iphone 7 Plus 128gb Gold, Free Pouch, Screen Protector, 6000 MAh Power Bank</h3><div class=\"prc\">₦ 175,000</div></div>,\n",
       " <div class=\"info\"><h3 class=\"name\">K2 Bluetooth Wireless Earphone Earbuds For Samsung IPhone Apple Xiaomi Huawei Vivo IOS/Android-Black</h3><div class=\"prc\">₦ 7,980</div><div class=\"s-prc-w\"><div class=\"old\">₦ 9,999</div><div class=\"tag _dsct _sm\">20%</div></div><div class=\"rev\"><div class=\"stars _s\">4.3 out of 5<div class=\"in\" style=\"width:86%\"></div></div>(69)</div><svg aria-label=\"Express Shipping\" class=\"ic xprss\" height=\"10\" viewbox=\"0 0 114 12\" width=\"94\"><use xlink:href=\"https://www.jumia.com.ng/assets_he/images/i-shop-jumia.c8de1c55.svg#express\"></use></svg><p class=\"shipp\">Jumia Express items in your order will be delivered for free (Lagos &amp; Abuja only, excluding large items)</p></div>,\n",
       " <div class=\"info\"><h3 class=\"name\">Apple Refurbished iprotech - Apple IPhone 7 32GB - Gold - Unblocked</h3><div class=\"prc\">₦ 70,000</div><div class=\"s-prc-w\"><div class=\"old\">₦ 90,000</div><div class=\"tag _dsct _sm\">22%</div></div><svg aria-label=\"Express Shipping\" class=\"ic xprss\" height=\"10\" viewbox=\"0 0 114 12\" width=\"94\"><use xlink:href=\"https://www.jumia.com.ng/assets_he/images/i-shop-jumia.c8de1c55.svg#express\"></use></svg><p class=\"shipp\">Jumia Express items in your order will be delivered for free (Lagos &amp; Abuja only, excluding large items)</p></div>,\n",
       " <div class=\"info\"><h3 class=\"name\">Apple Refurbished (Class B) - Apple IPhone 8 3GB RAM+64GB -Black IPhone8</h3><div class=\"prc\">₦ 115,000</div><div class=\"s-prc-w\"><div class=\"old\">₦ 190,000</div><div class=\"tag _dsct _sm\">39%</div></div><div class=\"rev\"><div class=\"stars _s\">5 out of 5<div class=\"in\" style=\"width:100%\"></div></div>(1)</div><svg aria-label=\"Express Shipping\" class=\"ic xprss\" height=\"10\" viewbox=\"0 0 114 12\" width=\"94\"><use xlink:href=\"https://www.jumia.com.ng/assets_he/images/i-shop-jumia.c8de1c55.svg#express\"></use></svg><p class=\"shipp\">Jumia Express items in your order will be delivered for free (Lagos &amp; Abuja only, excluding large items)</p></div>,\n",
       " <div class=\"info\"><h3 class=\"name\">IPhone 6 Plus /6s Plus Silicone Back Case - Red</h3><div class=\"prc\">₦ 3,850</div><svg aria-label=\"Express Shipping\" class=\"ic xprss\" height=\"10\" viewbox=\"0 0 114 12\" width=\"94\"><use xlink:href=\"https://www.jumia.com.ng/assets_he/images/i-shop-jumia.c8de1c55.svg#express\"></use></svg><p class=\"shipp\">Jumia Express items in your order will be delivered for free (Lagos &amp; Abuja only, excluding large items)</p></div>,\n",
       " <div class=\"info\"><h3 class=\"name\">Adjustable Mobile Phone Holder Compatible With IPhone/iPad/Tablet All &amp; Smartphones</h3><div class=\"prc\">₦ 2,200</div><div class=\"s-prc-w\"><div class=\"old\">₦ 6,000</div><div class=\"tag _dsct _sm\">63%</div></div><div class=\"rev\"><div class=\"stars _s\">4.1 out of 5<div class=\"in\" style=\"width:81.99999999999999%\"></div></div>(21)</div><svg aria-label=\"Express Shipping\" class=\"ic xprss\" height=\"10\" viewbox=\"0 0 114 12\" width=\"94\"><use xlink:href=\"https://www.jumia.com.ng/assets_he/images/i-shop-jumia.c8de1c55.svg#express\"></use></svg><p class=\"shipp\">Jumia Express items in your order will be delivered for free (Lagos &amp; Abuja only, excluding large items)</p></div>,\n",
       " <div class=\"info\"><h3 class=\"name\">Apple Renewed iprotech  -Apple IPhone 7 32GB - Black - Unblocked</h3><div class=\"prc\">₦ 71,900</div><div class=\"s-prc-w\"><div class=\"old\">₦ 90,000</div><div class=\"tag _dsct _sm\">20%</div></div><svg aria-label=\"Express Shipping\" class=\"ic xprss\" height=\"10\" viewbox=\"0 0 114 12\" width=\"94\"><use xlink:href=\"https://www.jumia.com.ng/assets_he/images/i-shop-jumia.c8de1c55.svg#express\"></use></svg><p class=\"shipp\">Jumia Express items in your order will be delivered for free (Lagos &amp; Abuja only, excluding large items)</p></div>,\n",
       " <div class=\"info\"><h3 class=\"name\">Apple Refurbished (Class B) - Apple IPhone 6 1GB RAM+64GB -Silver IPhone6</h3><div class=\"prc\">₦ 53,000</div><div class=\"s-prc-w\"><div class=\"old\">₦ 80,000</div><div class=\"tag _dsct _sm\">34%</div></div><div class=\"rev\"><div class=\"stars _s\">5 out of 5<div class=\"in\" style=\"width:100%\"></div></div>(3)</div><svg aria-label=\"Express Shipping\" class=\"ic xprss\" height=\"10\" viewbox=\"0 0 114 12\" width=\"94\"><use xlink:href=\"https://www.jumia.com.ng/assets_he/images/i-shop-jumia.c8de1c55.svg#express\"></use></svg><p class=\"shipp\">Jumia Express items in your order will be delivered for free (Lagos &amp; Abuja only, excluding large items)</p></div>,\n",
       " <div class=\"info\"><h3 class=\"name\">M10 Bluetooth Wireless Earphone Earbuds For Samsung IPhone Apple Xiaomi Huawei Vivo IOS/Android With 2000mah Smart LED Display Charging Case/Box</h3><div class=\"prc\">₦ 5,000</div><div class=\"s-prc-w\"><div class=\"old\">₦ 11,647</div><div class=\"tag _dsct _sm\">57%</div></div><div class=\"rev\"><div class=\"stars _s\">3.7 out of 5<div class=\"in\" style=\"width:74%\"></div></div>(28)</div><svg aria-label=\"Express Shipping\" class=\"ic xprss\" height=\"10\" viewbox=\"0 0 114 12\" width=\"94\"><use xlink:href=\"https://www.jumia.com.ng/assets_he/images/i-shop-jumia.c8de1c55.svg#express\"></use></svg><p class=\"shipp\">Jumia Express items in your order will be delivered for free (Lagos &amp; Abuja only, excluding large items)</p></div>,\n",
       " <div class=\"info\"><h3 class=\"name\">Apple Refurbished (Class B) - Apple IPhone 6 Plus 1GB RAM+16GB -Grey Iphone6P</h3><div class=\"prc\">₦ 53,500</div><div class=\"s-prc-w\"><div class=\"old\">₦ 100,000</div><div class=\"tag _dsct _sm\">47%</div></div><div class=\"rev\"><div class=\"stars _s\">4 out of 5<div class=\"in\" style=\"width:80%\"></div></div>(2)</div><svg aria-label=\"Express Shipping\" class=\"ic xprss\" height=\"10\" viewbox=\"0 0 114 12\" width=\"94\"><use xlink:href=\"https://www.jumia.com.ng/assets_he/images/i-shop-jumia.c8de1c55.svg#express\"></use></svg><p class=\"shipp\">Jumia Express items in your order will be delivered for free (Lagos &amp; Abuja only, excluding large items)</p></div>,\n",
       " <div class=\"info\"><h3 class=\"name\">Apple Refurbished iprotech  - Apple IPhone 7 32GB - Silver - Unblocked</h3><div class=\"prc\">₦ 70,000</div><div class=\"s-prc-w\"><div class=\"old\">₦ 90,000</div><div class=\"tag _dsct _sm\">22%</div></div><svg aria-label=\"Express Shipping\" class=\"ic xprss\" height=\"10\" viewbox=\"0 0 114 12\" width=\"94\"><use xlink:href=\"https://www.jumia.com.ng/assets_he/images/i-shop-jumia.c8de1c55.svg#express\"></use></svg><p class=\"shipp\">Jumia Express items in your order will be delivered for free (Lagos &amp; Abuja only, excluding large items)</p></div>,\n",
       " <div class=\"info\"><h3 class=\"name\">Apple Refurbished - Apple IPhone 6S 16GB -Space Grey - Unblocked</h3><div class=\"prc\">₦ 52,000</div><div class=\"s-prc-w\"><div class=\"old\">₦ 80,000</div><div class=\"tag _dsct _sm\">35%</div></div><svg aria-label=\"Express Shipping\" class=\"ic xprss\" height=\"10\" viewbox=\"0 0 114 12\" width=\"94\"><use xlink:href=\"https://www.jumia.com.ng/assets_he/images/i-shop-jumia.c8de1c55.svg#express\"></use></svg><p class=\"shipp\">Jumia Express items in your order will be delivered for free (Lagos &amp; Abuja only, excluding large items)</p></div>,\n",
       " <div class=\"info\"><h3 class=\"name\">Apple Refurbished (Class B) - Apple IPhone 6S Plus 2GB RAM+128GB -Gold IPhone6SP</h3><div class=\"prc\">₦ 83,000</div><div class=\"s-prc-w\"><div class=\"old\">₦ 140,000</div><div class=\"tag _dsct _sm\">41%</div></div><svg aria-label=\"Express Shipping\" class=\"ic xprss\" height=\"10\" viewbox=\"0 0 114 12\" width=\"94\"><use xlink:href=\"https://www.jumia.com.ng/assets_he/images/i-shop-jumia.c8de1c55.svg#express\"></use></svg><p class=\"shipp\">Jumia Express items in your order will be delivered for free (Lagos &amp; Abuja only, excluding large items)</p></div>,\n",
       " <div class=\"info\"><h3 class=\"name\">Apple Renewed iprotech - Apple IPhone 6S 16GB - Silver - Unblocked</h3><div class=\"prc\">₦ 54,000</div><div class=\"s-prc-w\"><div class=\"old\">₦ 80,000</div><div class=\"tag _dsct _sm\">33%</div></div><svg aria-label=\"Express Shipping\" class=\"ic xprss\" height=\"10\" viewbox=\"0 0 114 12\" width=\"94\"><use xlink:href=\"https://www.jumia.com.ng/assets_he/images/i-shop-jumia.c8de1c55.svg#express\"></use></svg><p class=\"shipp\">Jumia Express items in your order will be delivered for free (Lagos &amp; Abuja only, excluding large items)</p></div>,\n",
       " <div class=\"info\"><h3 class=\"name\">Apple Refurbished (Class B) - Apple IPhone 6S 2GB RAM+64GB -Rose Gold IPhone6S</h3><div class=\"prc\">₦ 61,000</div><div class=\"s-prc-w\"><div class=\"old\">₦ 100,000</div><div class=\"tag _dsct _sm\">39%</div></div><svg aria-label=\"Express Shipping\" class=\"ic xprss\" height=\"10\" viewbox=\"0 0 114 12\" width=\"94\"><use xlink:href=\"https://www.jumia.com.ng/assets_he/images/i-shop-jumia.c8de1c55.svg#express\"></use></svg><p class=\"shipp\">Jumia Express items in your order will be delivered for free (Lagos &amp; Abuja only, excluding large items)</p></div>,\n",
       " <div class=\"info\"><h3 class=\"name\">Apple Refurbished (Class B) - Apple IPhone 8 3GB RAM+64GB -Gold IPhone8</h3><div class=\"prc\">₦ 115,000</div><div class=\"s-prc-w\"><div class=\"old\">₦ 190,000</div><div class=\"tag _dsct _sm\">39%</div></div><svg aria-label=\"Express Shipping\" class=\"ic xprss\" height=\"10\" viewbox=\"0 0 114 12\" width=\"94\"><use xlink:href=\"https://www.jumia.com.ng/assets_he/images/i-shop-jumia.c8de1c55.svg#express\"></use></svg><p class=\"shipp\">Jumia Express items in your order will be delivered for free (Lagos &amp; Abuja only, excluding large items)</p></div>,\n",
       " <div class=\"info\"><h3 class=\"name\">Apple Renewed iprotech- Apple IPhone 6S 16GB -Space Grey - Unblocked</h3><div class=\"prc\">₦ 54,000</div><div class=\"s-prc-w\"><div class=\"old\">₦ 80,000</div><div class=\"tag _dsct _sm\">33%</div></div><svg aria-label=\"Express Shipping\" class=\"ic xprss\" height=\"10\" viewbox=\"0 0 114 12\" width=\"94\"><use xlink:href=\"https://www.jumia.com.ng/assets_he/images/i-shop-jumia.c8de1c55.svg#express\"></use></svg><p class=\"shipp\">Jumia Express items in your order will be delivered for free (Lagos &amp; Abuja only, excluding large items)</p></div>,\n",
       " <div class=\"info\"><h3 class=\"name\">Apple Iphone 7 Plus 128gb Gold And Free Pouch, Screen Protector &amp; Rechargeable Light</h3><div class=\"prc\">₦ 175,000</div><p class=\"mpg\" data-prc=\"₦ 175,000\" data-tot=\"2\">offers from</p></div>,\n",
       " <div class=\"info\"><h3 class=\"name\">Y30 Bluetooth Wireless Earphone Earbuds For Samsung IPhone Apple Xiaomi Huawei Vivo IOS/Android-Black</h3><div class=\"prc\">₦ 2,960</div><div class=\"s-prc-w\"><div class=\"old\">₦ 10,514</div><div class=\"tag _dsct _sm\">72%</div></div><div class=\"rev\"><div class=\"stars _s\">3.2 out of 5<div class=\"in\" style=\"width:64%\"></div></div>(25)</div><svg aria-label=\"Express Shipping\" class=\"ic xprss\" height=\"10\" viewbox=\"0 0 114 12\" width=\"94\"><use xlink:href=\"https://www.jumia.com.ng/assets_he/images/i-shop-jumia.c8de1c55.svg#express\"></use></svg><p class=\"shipp\">Jumia Express items in your order will be delivered for free (Lagos &amp; Abuja only, excluding large items)</p></div>,\n",
       " <div class=\"info\"><h3 class=\"name\">Apple Refurbished (Class B) - Apple IPhone 6S 2GB RAM+64GB -Grey IPhone6S</h3><div class=\"prc\">₦ 61,000</div><div class=\"s-prc-w\"><div class=\"old\">₦ 100,000</div><div class=\"tag _dsct _sm\">39%</div></div><div class=\"rev\"><div class=\"stars _s\">5 out of 5<div class=\"in\" style=\"width:100%\"></div></div>(1)</div><svg aria-label=\"Express Shipping\" class=\"ic xprss\" height=\"10\" viewbox=\"0 0 114 12\" width=\"94\"><use xlink:href=\"https://www.jumia.com.ng/assets_he/images/i-shop-jumia.c8de1c55.svg#express\"></use></svg><p class=\"shipp\">Jumia Express items in your order will be delivered for free (Lagos &amp; Abuja only, excluding large items)</p></div>,\n",
       " <div class=\"info\"><h3 class=\"name\">Apple Refurbished iprotech  - Apple IPhone 6S 16GB - Silver - Unblocked</h3><div class=\"prc\">₦ 52,000</div><div class=\"s-prc-w\"><div class=\"old\">₦ 80,000</div><div class=\"tag _dsct _sm\">35%</div></div><svg aria-label=\"Express Shipping\" class=\"ic xprss\" height=\"10\" viewbox=\"0 0 114 12\" width=\"94\"><use xlink:href=\"https://www.jumia.com.ng/assets_he/images/i-shop-jumia.c8de1c55.svg#express\"></use></svg><p class=\"shipp\">Jumia Express items in your order will be delivered for free (Lagos &amp; Abuja only, excluding large items)</p></div>,\n",
       " <div class=\"info\"><h3 class=\"name\">Apple Refurbished iprotech  - Apple IPhone 7 32GB - Rose Gold - Unblocked</h3><div class=\"prc\">₦ 70,000</div><div class=\"s-prc-w\"><div class=\"old\">₦ 90,000</div><div class=\"tag _dsct _sm\">22%</div></div><svg aria-label=\"Express Shipping\" class=\"ic xprss\" height=\"10\" viewbox=\"0 0 114 12\" width=\"94\"><use xlink:href=\"https://www.jumia.com.ng/assets_he/images/i-shop-jumia.c8de1c55.svg#express\"></use></svg><p class=\"shipp\">Jumia Express items in your order will be delivered for free (Lagos &amp; Abuja only, excluding large items)</p></div>,\n",
       " <div class=\"info\"><h3 class=\"name\">Apple Renewed - Apple IPhone 7 2GB RAM+32GB ROM - Gold</h3><div class=\"prc\">₦ 85,000</div><div class=\"s-prc-w\"><div class=\"old\">₦ 276,780</div><div class=\"tag _dsct _sm\">69%</div></div><svg aria-label=\"Express Shipping\" class=\"ic xprss\" height=\"10\" viewbox=\"0 0 114 12\" width=\"94\"><use xlink:href=\"https://www.jumia.com.ng/assets_he/images/i-shop-jumia.c8de1c55.svg#express\"></use></svg><p class=\"shipp\">Jumia Express items in your order will be delivered for free (Lagos &amp; Abuja only, excluding large items)</p></div>,\n",
       " <div class=\"info\"><h3 class=\"name\">P47 Bluetooth Wireless Earphone Earbuds For Samsung IPhone Apple Xiaomi Huawei Vivo IOS/Android-White</h3><div class=\"prc\">₦ 3,550</div><div class=\"s-prc-w\"><div class=\"old\">₦ 12,000</div><div class=\"tag _dsct _sm\">70%</div></div><div class=\"rev\"><div class=\"stars _s\">4.1 out of 5<div class=\"in\" style=\"width:81.99999999999999%\"></div></div>(15)</div><svg aria-label=\"Express Shipping\" class=\"ic xprss\" height=\"10\" viewbox=\"0 0 114 12\" width=\"94\"><use xlink:href=\"https://www.jumia.com.ng/assets_he/images/i-shop-jumia.c8de1c55.svg#express\"></use></svg><p class=\"shipp\">Jumia Express items in your order will be delivered for free (Lagos &amp; Abuja only, excluding large items)</p></div>,\n",
       " <div class=\"info\"><h3 class=\"name\">Apple Renewed iprotech - Apple IPhone 7 32GB - Gold - Unblocked</h3><div class=\"prc\">₦ 71,900</div><div class=\"s-prc-w\"><div class=\"old\">₦ 90,000</div><div class=\"tag _dsct _sm\">20%</div></div><svg aria-label=\"Express Shipping\" class=\"ic xprss\" height=\"10\" viewbox=\"0 0 114 12\" width=\"94\"><use xlink:href=\"https://www.jumia.com.ng/assets_he/images/i-shop-jumia.c8de1c55.svg#express\"></use></svg><p class=\"shipp\">Jumia Express items in your order will be delivered for free (Lagos &amp; Abuja only, excluding large items)</p></div>,\n",
       " <div class=\"info\"><h3 class=\"name\">Apple Renewed iprotech  -Apple IPhone 6S 16GB - Gold - Unblocked</h3><div class=\"prc\">₦ 54,000</div><div class=\"s-prc-w\"><div class=\"old\">₦ 80,000</div><div class=\"tag _dsct _sm\">33%</div></div><svg aria-label=\"Express Shipping\" class=\"ic xprss\" height=\"10\" viewbox=\"0 0 114 12\" width=\"94\"><use xlink:href=\"https://www.jumia.com.ng/assets_he/images/i-shop-jumia.c8de1c55.svg#express\"></use></svg><p class=\"shipp\">Jumia Express items in your order will be delivered for free (Lagos &amp; Abuja only, excluding large items)</p></div>,\n",
       " <div class=\"info\"><h3 class=\"name\">Apple Renewed iprotech - Apple IPhone 7 32GB - Silver - Unblocked</h3><div class=\"prc\">₦ 71,900</div><div class=\"s-prc-w\"><div class=\"old\">₦ 90,000</div><div class=\"tag _dsct _sm\">20%</div></div><svg aria-label=\"Express Shipping\" class=\"ic xprss\" height=\"10\" viewbox=\"0 0 114 12\" width=\"94\"><use xlink:href=\"https://www.jumia.com.ng/assets_he/images/i-shop-jumia.c8de1c55.svg#express\"></use></svg><p class=\"shipp\">Jumia Express items in your order will be delivered for free (Lagos &amp; Abuja only, excluding large items)</p></div>,\n",
       " <div class=\"info\"><h3 class=\"name\">Apple Iphone 7 128gb Black With Free Pouch And Tempered Glass</h3><div class=\"prc\">₦ 120,000</div><div class=\"rev\"><div class=\"stars _s\">3.3 out of 5<div class=\"in\" style=\"width:66%\"></div></div>(4)</div></div>,\n",
       " <div class=\"info\"><h3 class=\"name\">GT08S Bluetooth Smart Wrist Watch With Sim For IPhone &amp; Android</h3><div class=\"prc\">₦ 7,415</div><div class=\"s-prc-w\"><div class=\"old\">₦ 22,000</div><div class=\"tag _dsct _sm\">66%</div></div><div class=\"rev\"><div class=\"stars _s\">3.7 out of 5<div class=\"in\" style=\"width:74%\"></div></div>(29)</div></div>,\n",
       " <div class=\"info\"><h3 class=\"name\"></h3><div class=\"prc\"></div></div>,\n",
       " <div class=\"info\"><h3 class=\"name\"></h3><div class=\"prc\"></div></div>,\n",
       " <div class=\"info\"><h3 class=\"name\"></h3><div class=\"prc\"></div></div>,\n",
       " <div class=\"info\"><h3 class=\"name\"></h3><div class=\"prc\"></div></div>,\n",
       " <div class=\"info\"><h3 class=\"name\"></h3><div class=\"prc\"></div></div>,\n",
       " <div class=\"info\"><h3 class=\"name\"></h3><div class=\"prc\"></div></div>,\n",
       " <div class=\"info\"><h3 class=\"name\"></h3><div class=\"prc\"></div></div>,\n",
       " <div class=\"info\"><h3 class=\"name\"></h3><div class=\"prc\"></div></div>]"
      ]
     },
     "execution_count": 11,
     "metadata": {},
     "output_type": "execute_result"
    }
   ],
   "source": [
    "k = requests.get('https://www.jumia.com.ng/catalog/?q=iphone', {'headers':headers}).text\n",
    "soup=BeautifulSoup(k,'html.parser')\n",
    "productlist = soup.find_all(\"div\",{\"class\":\"info\"})\n",
    "# lis = soup.find_all(\"article\")\n",
    "productlist\n",
    "# lis\n",
    "\n"
   ]
  },
  {
   "cell_type": "code",
   "execution_count": 175,
   "id": "615fcc6c",
   "metadata": {},
   "outputs": [],
   "source": [
    "# filename=\"jumia.csv\"\n",
    "# f=open(filename, \"w\")\n",
    "# headers=\"brand, price, \\n\"\n",
    "# f.write(headers)  \n",
    "# for list in productlist:\n",
    "#     try:\n",
    "#         iphone=contain.find(\"h3\", {\"class\":\"name\"})\n",
    "#     except:\n",
    "#          product=None\n",
    "#     try:\n",
    "#         cost=contain.find(\"div\", {\"class\":\"prc\"})\n",
    "#     except:\n",
    "#         cost=None\n",
    "#     f.write(f\"{product.text}, {cost.text}\\n\")\n",
    "#     print(f\"{product.text}, {cost.text}\\n\") # add this line for check output\n",
    "# f.close()        "
   ]
  },
  {
   "cell_type": "code",
   "execution_count": 176,
   "id": "faa9bfbd",
   "metadata": {},
   "outputs": [],
   "source": [
    "# f = requests.get(productlist,headers=headers).text\n",
    "# hun=bs4.BeautifulSoup(markup= k, features = 'html.parser')\n",
    "# products = soup.find_all(\"h3\", {\"class\": \"name\"})\n",
    "# prices = soup.find_all(\"div\", {\"class\": \"prc\"})\n",
    "# # prices\n",
    "\n",
    "p = products = soup.find_all(\"h3\", {\"class\": \"name\"}),soup.find_all(\"div\", {\"class\": \"prc\"})\n",
    "# p"
   ]
  },
  {
   "cell_type": "code",
   "execution_count": 22,
   "id": "85a635d8",
   "metadata": {},
   "outputs": [
    {
     "name": "stdout",
     "output_type": "stream",
     "text": [
      "[{'Name_of_Phone': 'Apple Refurbished (Class B) - Apple IPhone 6 Plus 1GB RAM+64GB -Gold IPhone6P', 'Price': ' 58000'}, {'Name_of_Phone': 'Apple Refurbished (Class B) - Apple IPhone 6 Plus 1GB RAM+64GB -Gold IPhone6P', 'Price': ' 58000'}, {'Name_of_Phone': 'Apple Refurbished (Class B) - Apple IPhone 6 Plus 1GB RAM+64GB -Gold IPhone6P', 'Price': ' 58000'}, {'Name_of_Phone': 'Apple Refurbished (Class B) - Apple IPhone 6 Plus 1GB RAM+64GB -Gold IPhone6P', 'Price': ' 58000'}, {'Name_of_Phone': 'Apple Refurbished (Class B) - Apple IPhone 6 Plus 1GB RAM+64GB -Gold IPhone6P', 'Price': ' 58000'}, {'Name_of_Phone': 'Apple Refurbished (Class B) - Apple IPhone 6 Plus 1GB RAM+64GB -Gold IPhone6P', 'Price': ' 58000'}, {'Name_of_Phone': 'Apple Refurbished (Class B) - Apple IPhone 6 Plus 1GB RAM+64GB -Gold IPhone6P', 'Price': ' 58000'}, {'Name_of_Phone': 'Apple Refurbished (Class B) - Apple IPhone 6 Plus 1GB RAM+64GB -Gold IPhone6P', 'Price': ' 58000'}, {'Name_of_Phone': 'Apple Refurbished (Class B) - Apple IPhone 6 Plus 1GB RAM+64GB -Gold IPhone6P', 'Price': ' 58000'}, {'Name_of_Phone': 'Apple Refurbished (Class B) - Apple IPhone 6 Plus 1GB RAM+64GB -Gold IPhone6P', 'Price': ' 58000'}, {'Name_of_Phone': 'Apple Refurbished (Class B) - Apple IPhone 6 Plus 1GB RAM+64GB -Gold IPhone6P', 'Price': ' 58000'}, {'Name_of_Phone': 'Apple Refurbished (Class B) - Apple IPhone 6 Plus 1GB RAM+64GB -Gold IPhone6P', 'Price': ' 58000'}, {'Name_of_Phone': 'Apple Refurbished (Class B) - Apple IPhone 6 Plus 1GB RAM+64GB -Gold IPhone6P', 'Price': ' 58000'}, {'Name_of_Phone': 'Apple Refurbished (Class B) - Apple IPhone 6 Plus 1GB RAM+64GB -Gold IPhone6P', 'Price': ' 58000'}, {'Name_of_Phone': 'Apple Refurbished (Class B) - Apple IPhone 6 Plus 1GB RAM+64GB -Gold IPhone6P', 'Price': ' 58000'}, {'Name_of_Phone': 'Apple Refurbished (Class B) - Apple IPhone 6 Plus 1GB RAM+64GB -Gold IPhone6P', 'Price': ' 58000'}, {'Name_of_Phone': 'Apple Refurbished (Class B) - Apple IPhone 6 Plus 1GB RAM+64GB -Gold IPhone6P', 'Price': ' 58000'}, {'Name_of_Phone': 'Apple Refurbished (Class B) - Apple IPhone 6 Plus 1GB RAM+64GB -Gold IPhone6P', 'Price': ' 58000'}, {'Name_of_Phone': 'Apple Refurbished (Class B) - Apple IPhone 6 Plus 1GB RAM+64GB -Gold IPhone6P', 'Price': ' 58000'}, {'Name_of_Phone': 'Apple Refurbished (Class B) - Apple IPhone 6 Plus 1GB RAM+64GB -Gold IPhone6P', 'Price': ' 58000'}, {'Name_of_Phone': 'Apple Refurbished (Class B) - Apple IPhone 6 Plus 1GB RAM+64GB -Gold IPhone6P', 'Price': ' 58000'}, {'Name_of_Phone': 'Apple Refurbished (Class B) - Apple IPhone 6 Plus 1GB RAM+64GB -Gold IPhone6P', 'Price': ' 58000'}, {'Name_of_Phone': 'Apple Refurbished (Class B) - Apple IPhone 6 Plus 1GB RAM+64GB -Gold IPhone6P', 'Price': ' 58000'}, {'Name_of_Phone': 'Apple Refurbished (Class B) - Apple IPhone 6 Plus 1GB RAM+64GB -Gold IPhone6P', 'Price': ' 58000'}, {'Name_of_Phone': 'Apple Refurbished (Class B) - Apple IPhone 6 Plus 1GB RAM+64GB -Gold IPhone6P', 'Price': ' 58000'}, {'Name_of_Phone': 'Apple Refurbished (Class B) - Apple IPhone 6 Plus 1GB RAM+64GB -Gold IPhone6P', 'Price': ' 58000'}, {'Name_of_Phone': 'Apple Refurbished (Class B) - Apple IPhone 6 Plus 1GB RAM+64GB -Gold IPhone6P', 'Price': ' 58000'}, {'Name_of_Phone': 'Apple Refurbished (Class B) - Apple IPhone 6 Plus 1GB RAM+64GB -Gold IPhone6P', 'Price': ' 58000'}, {'Name_of_Phone': 'Apple Refurbished (Class B) - Apple IPhone 6 Plus 1GB RAM+64GB -Gold IPhone6P', 'Price': ' 58000'}, {'Name_of_Phone': 'Apple Refurbished (Class B) - Apple IPhone 6 Plus 1GB RAM+64GB -Gold IPhone6P', 'Price': ' 58000'}, {'Name_of_Phone': 'Apple Refurbished (Class B) - Apple IPhone 6 Plus 1GB RAM+64GB -Gold IPhone6P', 'Price': ' 58000'}, {'Name_of_Phone': 'Apple Refurbished (Class B) - Apple IPhone 6 Plus 1GB RAM+64GB -Gold IPhone6P', 'Price': ' 58000'}, {'Name_of_Phone': 'Apple Refurbished (Class B) - Apple IPhone 6 Plus 1GB RAM+64GB -Gold IPhone6P', 'Price': ' 58000'}, {'Name_of_Phone': 'Apple Refurbished (Class B) - Apple IPhone 6 Plus 1GB RAM+64GB -Gold IPhone6P', 'Price': ' 58000'}, {'Name_of_Phone': 'Apple Refurbished (Class B) - Apple IPhone 6 Plus 1GB RAM+64GB -Gold IPhone6P', 'Price': ' 58000'}, {'Name_of_Phone': 'Apple Refurbished (Class B) - Apple IPhone 6 Plus 1GB RAM+64GB -Gold IPhone6P', 'Price': ' 58000'}, {'Name_of_Phone': 'Apple Refurbished (Class B) - Apple IPhone 6 Plus 1GB RAM+64GB -Gold IPhone6P', 'Price': ' 58000'}, {'Name_of_Phone': 'Apple Refurbished (Class B) - Apple IPhone 6 Plus 1GB RAM+64GB -Gold IPhone6P', 'Price': ' 58000'}, {'Name_of_Phone': 'Apple Refurbished (Class B) - Apple IPhone 6 Plus 1GB RAM+64GB -Gold IPhone6P', 'Price': ' 58000'}, {'Name_of_Phone': 'Apple Refurbished (Class B) - Apple IPhone 6 Plus 1GB RAM+64GB -Gold IPhone6P', 'Price': ' 58000'}, {'Name_of_Phone': 'Apple Refurbished (Class B) - Apple IPhone 6 Plus 1GB RAM+64GB -Gold IPhone6P', 'Price': ' 58000'}, {'Name_of_Phone': 'Apple Refurbished (Class B) - Apple IPhone 6 Plus 1GB RAM+64GB -Gold IPhone6P', 'Price': ' 58000'}, {'Name_of_Phone': 'Apple Refurbished (Class B) - Apple IPhone 6 Plus 1GB RAM+64GB -Gold IPhone6P', 'Price': ' 58000'}, {'Name_of_Phone': 'Apple Refurbished (Class B) - Apple IPhone 6 Plus 1GB RAM+64GB -Gold IPhone6P', 'Price': ' 58000'}, {'Name_of_Phone': 'Apple Refurbished (Class B) - Apple IPhone 6 Plus 1GB RAM+64GB -Gold IPhone6P', 'Price': ' 58000'}, {'Name_of_Phone': 'Apple Refurbished (Class B) - Apple IPhone 6 Plus 1GB RAM+64GB -Gold IPhone6P', 'Price': ' 58000'}, {'Name_of_Phone': 'Apple Refurbished (Class B) - Apple IPhone 6 Plus 1GB RAM+64GB -Gold IPhone6P', 'Price': ' 58000'}, {'Name_of_Phone': 'Apple Refurbished (Class B) - Apple IPhone 6 Plus 1GB RAM+64GB -Gold IPhone6P', 'Price': ' 58000'}]\n"
     ]
    }
   ],
   "source": [
    "# for items in  productlist:\n",
    "#     phone = items.find_all(\"h3\", {\"class\": \"name\"})\n",
    "# if phone is not None:\n",
    "#     item = phone\n",
    "#     url = items.find(\"loc\").text\n",
    "#     print (item)\n",
    "\n",
    "\n",
    "   \n",
    "# phones = {\"Product name\":products,\"price\":prices}\n",
    "\n",
    "# data.append(phones)\n",
    "# data\n",
    "data =[]\n",
    "for list in productlist:\n",
    "#     f = requests.get(link,headers=headers).text\n",
    "#     hun=BeautifulSoup(f,'html.parser')\n",
    "\n",
    "    try:\n",
    "        Name_of_Phone=soup.find(\"h3\", {\"class\": \"name\"}).text.replace('\\n',\"\")\n",
    "    except:\n",
    "        Name_of_Phone = None\n",
    "\n",
    "    try:\n",
    "        Price=soup.find(\"div\", {\"class\": \"prc\"}).text.replace(\"₦\", \"\").replace('\\n',\"\").replace(\",\", \"\")\n",
    "    except:\n",
    "        Price=None\n",
    "        \n",
    "    phones = {\"Name_of_Phone\":Name_of_Phone,\"Price\":Price}\n",
    "\n",
    "    data.append(phones)\n",
    "print(data)\n",
    "\n",
    "# Name_of_Phone=soup.find(\"h3\", {\"class\": \"name\"}).text.replace('\\n',\"\")"
   ]
  },
  {
   "cell_type": "code",
   "execution_count": 23,
   "id": "be0e93cc",
   "metadata": {},
   "outputs": [
    {
     "name": "stdout",
     "output_type": "stream",
     "text": [
      "<class 'pandas.core.frame.DataFrame'>\n",
      "RangeIndex: 48 entries, 0 to 47\n",
      "Data columns (total 2 columns):\n",
      " #   Column         Non-Null Count  Dtype \n",
      "---  ------         --------------  ----- \n",
      " 0   Name_of_Phone  48 non-null     object\n",
      " 1   Price          48 non-null     object\n",
      "dtypes: object(2)\n",
      "memory usage: 896.0+ bytes\n"
     ]
    }
   ],
   "source": [
    "df = pd.DataFrame(data)\n",
    "\n",
    "df.info()"
   ]
  },
  {
   "cell_type": "code",
   "execution_count": 24,
   "id": "e991dd9b",
   "metadata": {},
   "outputs": [],
   "source": [
    "iphones = {}\n",
    "iphone_qtys = {}\n",
    "for iphone in data:\n",
    "    if \"Iphone 6\" in iphone[\"Name_of_Phone\"] or \"IPhone 6\" in iphone[\"Name_of_Phone\"]:\n",
    "        if iphones.get(\"Iphone 6\"):\n",
    "            iphones[\"Iphone 6\"] += int(iphone[\"Price\"])\n",
    "            iphone_qtys[\"Iphone 6\"] += 1\n",
    "        else:\n",
    "            iphones[\"Iphone 6\"] = int(iphone[\"Price\"])\n",
    "            iphone_qtys[\"Iphone 6\"] = 1\n",
    "    if \"Iphone 7\" in iphone[\"Name_of_Phone\"] or \"IPhone 7\" in iphone[\"Name_of_Phone\"]:\n",
    "        if iphones.get(\"Iphone 7\"):\n",
    "            iphones[\"Iphone 7\"] += int(iphone[\"Price\"])\n",
    "            iphone_qtys[\"Iphone 7\"] += 1\n",
    "        else:\n",
    "            iphones[\"Iphone 7\"] = int(iphone[\"Price\"])\n",
    "            iphone_qtys[\"Iphone 7\"] = 1\n",
    "    if \"Iphone 8\" in iphone[\"Name_of_Phone\"] or \"IPhone 8\" in iphone[\"Name_of_Phone\"]:\n",
    "        if iphones.get(\"Iphone 8\"):\n",
    "            iphones[\"Iphone 8\"] += int(iphone[\"Price\"])\n",
    "            iphone_qtys[\"Iphone 7\"] += 1\n",
    "        else:\n",
    "            iphones[\"Iphone 8\"] = int(iphone[\"Price\"])\n",
    "            iphone_qtys[\"Iphone 8\"] = 1\n",
    "    if \"Iphone X\" in iphone[\"Name_of_Phone\"] or \"IPhone X\" in iphone[\"Name_of_Phone\"]:\n",
    "        if iphones.get(\"Iphone X\"):\n",
    "            iphones[\"Iphone X\"] += int(iphone[\"Price\"])\n",
    "            iphone_qtys[\"Iphone X\"] += 1\n",
    "        else:\n",
    "            iphones[\"Iphone X\"] = int(iphone[\"Price\"])\n",
    "            iphone_qtys[\"Iphone X\"] = 1\n",
    "    if \"Iphone 11\" in iphone[\"Name_of_Phone\"] or \"IPhone 6\" in iphone[\"Name_of_Phone\"]:\n",
    "        if iphones.get(\"Iphone 11\"):\n",
    "            iphones[\"Iphone 11\"] += int(iphone[\"Price\"])\n",
    "            iphone_qtys[\"Iphone 11\"] += 1\n",
    "        else:\n",
    "            iphones[\"Iphone 11\"] = int(iphone[\"Price\"])\n",
    "            iphone_qtys[\"Iphone 11\"] = 1\n",
    "    if \"Iphone 12\" in iphone[\"Name_of_Phone\"] or \"IPhone 12\" in iphone[\"Name_of_Phone\"]:\n",
    "        if iphones.get(\"Iphone 12\"):\n",
    "            iphones[\"Iphone 12\"] += int(iphone[\"Price\"])\n",
    "            iphone_qtys[\"Iphone 12\"] += 1\n",
    "        else:\n",
    "            iphones[\"Iphone 12\"] = int(iphone[\"Price\"])\n",
    "            iphone_qtys[\"Iphone 12\"] = 1"
   ]
  },
  {
   "cell_type": "code",
   "execution_count": 25,
   "id": "77dd1d1d",
   "metadata": {},
   "outputs": [
    {
     "name": "stdout",
     "output_type": "stream",
     "text": [
      "{'Iphone 6': 2784000, 'Iphone 11': 2784000}\n"
     ]
    }
   ],
   "source": [
    "print(iphones)"
   ]
  },
  {
   "cell_type": "code",
   "execution_count": 27,
   "id": "038e5dd2",
   "metadata": {},
   "outputs": [
    {
     "data": {
      "text/plain": [
       "{'Iphone 6': 48, 'Iphone 11': 48}"
      ]
     },
     "execution_count": 27,
     "metadata": {},
     "output_type": "execute_result"
    }
   ],
   "source": [
    "iphone_qtys"
   ]
  },
  {
   "cell_type": "code",
   "execution_count": 28,
   "id": "9dc2d851",
   "metadata": {},
   "outputs": [
    {
     "name": "stdout",
     "output_type": "stream",
     "text": [
      "[58000.0, 58000.0]\n"
     ]
    }
   ],
   "source": [
    "averages =[total/qty for total, qty in zip(iphones.values(), iphone_qtys.values())]\n",
    "print(averages)"
   ]
  },
  {
   "cell_type": "code",
   "execution_count": 29,
   "id": "7b2035f7",
   "metadata": {},
   "outputs": [
    {
     "data": {
      "image/png": "[encoded data removed]",
      "text/plain": [
       "<Figure size 432x288 with 1 Axes>"
      ]
     },
     "metadata": {},
     "output_type": "display_data"
    }
   ],
   "source": [
    "xticks = [1,2]\n",
    "shift = 0.2\n",
    "\n",
    "totals_labels = [tick - shift for tick in xticks]\n",
    "qty_labels = [tick + shift for tick in xticks]\n",
    "\n",
    "plt.bar(totals_labels, iphones.values(), width = 0.2, label = \"Totals price\")\n",
    "plt.bar(qty_labels, averages, width = 0.2, label = \"qty\")\n",
    "\n",
    "\n",
    "plt.xticks(xticks, iphones.keys(), rotation = 45)\n",
    "plt.legend()\n",
    "# plt.savefig(\"plot.pdf\")\n",
    "plt.show()"
   ]
  },
  {
   "cell_type": "code",
   "execution_count": 139,
   "id": "1d28f002",
   "metadata": {},
   "outputs": [],
   "source": [
    "# jumiaLink = str(jumiaURL)\n",
    "# jumiaLink\n",
    "searchLink = 'https://www.jumia.com.ng/catalog/?q=iphone'"
   ]
  },
  {
   "cell_type": "code",
   "execution_count": 141,
   "id": "9934a30f",
   "metadata": {},
   "outputs": [
    {
     "data": {
      "text/plain": [
       "['https://www.jumia.com.ng/apple-refurbished-class-b-apple-iphone-6-plus-1gb-ram64gb-gold-iphone6p-90217996.html',\n",
       " 'https://www.jumia.com.ng/apple-renewed-apple-iphone-x-3gb-ram64gb-rom-space-gray-79455472.html',\n",
       " 'https://www.jumia.com.ng/apple-renewed-apple-iphone-xr-3gb-ram64gb-rom-white-79915808.html',\n",
       " 'https://www.jumia.com.ng/apple-refurbished-class-b-apple-iphone-6-plus-1gb-ram16gb-gold-iphone6p-90218184.html',\n",
       " 'https://www.jumia.com.ng/renewed-apple-iphone-6s-2gb-ram32gb-rom-space-gray-apple-mpg1639174.html',\n",
       " 'https://www.jumia.com.ng/dana-power-bank-10400-mah-led-display-iphonemicro-input-42423839.html',\n",
       " 'https://www.jumia.com.ng/apple-refurbished-class-b-apple-iphone-6-plus-1gb-ram64gb-grey-iphone6p-90218116.html',\n",
       " 'https://www.jumia.com.ng/apple-refurbished-class-b-apple-iphone-6-plus-1gb-ram64gb-silver-iphone6p-90217808.html',\n",
       " 'https://www.jumia.com.ng/apple-refurbished-iprotech-apple-iphone-7-32gb-gold-unblocked-95758968.html',\n",
       " 'https://www.jumia.com.ng/generic-for-iphone-11-pro-max-2019-magnet-adsorption-double-sided-tempered-gl-metal-cover-for-iphone-x-xr-xs-max-8-7-6-6s-plusgold-sha-62134639.html',\n",
       " 'https://www.jumia.com.ng/apple-refurbished-class-b-apple-iphone-6s-plus-2gb-ram128gb-rose-gold-iphone6sp-89892220.html',\n",
       " 'https://www.jumia.com.ng/generic-k2-bluetooth-wireless-earphone-earbuds-for-samsung-iphone-apple-xiaomi-huawei-vivo-iosandroid-black-75506302.html',\n",
       " 'https://www.jumia.com.ng/apple-renewed-iprotech-apple-iphone-7-32gb-black-unblocked-92829593.html',\n",
       " 'https://www.jumia.com.ng/iphone-7-plus-128gb-gold-free-pouch-screen-protector-6000-mah-power-bank-apple-mpg1192715.html',\n",
       " 'https://www.jumia.com.ng/apple-refurbished-class-b-apple-iphone-6-plus-1gb-ram16gb-silver-iphone6p-90218159.html',\n",
       " 'https://www.jumia.com.ng/generic-iphone-6-plus-6s-plus-silicone-back-case-red-72225864.html',\n",
       " 'https://www.jumia.com.ng/apple-renewed-iprotech-apple-iphone-6s-16gb-silver-unblocked-92819394.html',\n",
       " 'https://www.jumia.com.ng/apple-refurbished-class-b-apple-iphone-8-3gb-ram64gb-black-iphone8-102114604.html',\n",
       " 'https://www.jumia.com.ng/apple-refurbished-class-b-apple-iphone-6-1gb-ram64gb-silver-iphone6-90014393.html',\n",
       " 'https://www.jumia.com.ng/apple-refurbished-class-b-apple-iphone-6-plus-1gb-ram16gb-grey-iphone6p-90218233.html',\n",
       " 'https://www.jumia.com.ng/generic-m10-bluetooth-wireless-earphone-earbuds-for-samsung-iphone-apple-xiaomi-huawei-vivo-iosandroid-with-2000mah-smart-led-display-charging-casebox-75506836.html',\n",
       " 'https://www.jumia.com.ng/apple-refurbished-class-b-apple-iphone-6s-plus-2gb-ram128gb-gold-iphone6sp-89892355.html',\n",
       " 'https://www.jumia.com.ng/generic-adjustable-mobile-phone-holder-compatible-with-iphoneipadtablet-all-smartphones-80684246.html',\n",
       " 'https://www.jumia.com.ng/apple-iphone-11-6.1-inch-liquid-retina-lcd-4gb-ram64-gb-rom-ios-13-12mp12mp12mp-4g-lte-smartphone-nano-sim-purple-104447583.html',\n",
       " 'https://www.jumia.com.ng/apple-refurbished-apple-iphone-6s-16gb-space-grey-unblocked-95755352.html',\n",
       " 'https://www.jumia.com.ng/apple-renewed-iprotech-apple-iphone-6s-16gb-space-grey-unblocked-92819402.html',\n",
       " 'https://www.jumia.com.ng/apple-refurbished-class-b-apple-iphone-6s-2gb-ram64gb-rose-gold-iphone6s-89891075.html',\n",
       " 'https://www.jumia.com.ng/generic-m3-bluetooth-wireless-earphone-earbuds-for-samsung-iphone-apple-xiaomi-huawei-vivo-iosandroid-black-80683925.html',\n",
       " 'https://www.jumia.com.ng/apple-refurbished-class-b-apple-iphone-6s-2gb-ram64gb-grey-iphone6s-89891165.html',\n",
       " 'https://www.jumia.com.ng/apple-refurbished-class-b-apple-iphone-6-1gb-ram128gb-gold-iphone6-90014295.html',\n",
       " 'https://www.jumia.com.ng/apple-refurbished-iprotech-apple-iphone-6s-16gb-silver-unblocked-95756972.html',\n",
       " 'https://www.jumia.com.ng/apple-refurbished-iprotech-apple-iphone-7-32gb-silver-unblocked-95758058.html',\n",
       " 'https://www.jumia.com.ng/apple-renewed-iprotech-apple-iphone-7-32gb-gold-unblocked-92830949.html',\n",
       " 'https://www.jumia.com.ng/apple-renewed-iprotech-apple-iphone-7-32gb-silver-unblocked-92831007.html',\n",
       " 'https://www.jumia.com.ng/apple-iphone-xr-64gb-white-free-pouch-and-screen-protector-104445011.html',\n",
       " 'https://www.jumia.com.ng/apple-renewed-apple-iphone-7-2gb-ram32gb-rom-gold-79243268.html',\n",
       " 'https://www.jumia.com.ng/generic-5000-mah-ultra-slim-flexible-glue-full-cover-portable-wireless-charging-liquid-silicone-phone-protective-charger-case-iphone-1212-pro-6.1inch-black-81905638.html',\n",
       " 'https://www.jumia.com.ng/generic-i12-bluetooth-wireless-earphone-earbuds-for-samsung-iphone-apple-xiaomi-huawei-vivo-iosandroid-black-80683923.html',\n",
       " 'https://www.jumia.com.ng/apple-refurbished-iprotech-apple-iphone-7-32gb-rose-gold-unblocked-95805737.html',\n",
       " 'https://www.jumia.com.ng/iphone-7-128gb-black-with-free-pouch-and-tempered-glass-apple-mpg1192669.html',\n",
       " 'https://www.jumia.com.ngNone',\n",
       " 'https://www.jumia.com.ngNone',\n",
       " 'https://www.jumia.com.ngNone',\n",
       " 'https://www.jumia.com.ngNone',\n",
       " 'https://www.jumia.com.ngNone',\n",
       " 'https://www.jumia.com.ngNone',\n",
       " 'https://www.jumia.com.ngNone',\n",
       " 'https://www.jumia.com.ngNone']"
      ]
     },
     "execution_count": 141,
     "metadata": {},
     "output_type": "execute_result"
    }
   ],
   "source": [
    "productlinks = []\n",
    "for product in productlist:\n",
    "        link = product.find(\"a\",{\"class\":\"core\"}).get('href')\n",
    "        jumiaLink = str(link)\n",
    "        productlinks.append(jumiaURL + jumiaLink)\n",
    "productlinks"
   ]
  },
  {
   "cell_type": "code",
   "execution_count": 18,
   "id": "50a58d7d",
   "metadata": {},
   "outputs": [],
   "source": [
    "# data = []\n",
    "# for link in productlinks:\n",
    "#     f = requests.get(link,{'headers':headers}).text\n",
    "#     hun=bs4.BeautifulSoup(f,'html.parser')\n",
    "\n",
    "#     try:\n",
    "#         iphones=hun.find(\"h3\", {\"class\": \"name\"}).text.replace('\\n',\"\")\n",
    "#     except:\n",
    "#         iphones = None\n",
    "\n",
    "#     try:\n",
    "#         price=hun.find(\"div\", {\"class\": \"prc\"}).text.replace('\\n',\"\")\n",
    "#     except:\n",
    "#         price=None\n",
    "\n",
    "\n",
    "\n",
    "#     prods = {\"iphones\":iphones,\"price\":price}\n",
    "\n",
    "#     data.append(prods)"
   ]
  },
  {
   "cell_type": "code",
   "execution_count": null,
   "id": "4c7dc850",
   "metadata": {},
   "outputs": [],
   "source": []
  }
 ],
 "metadata": {
  "kernelspec": {
   "display_name": "Python 3 (ipykernel)",
   "language": "python",
   "name": "python3"
  },
  "language_info": {
   "codemirror_mode": {
    "name": "ipython",
    "version": 3
   },
   "file_extension": ".py",
   "mimetype": "text/x-python",
   "name": "python",
   "nbconvert_exporter": "python",
   "pygments_lexer": "ipython3",
   "version": "3.9.7"
  }
 },
 "nbformat": 4,
 "nbformat_minor": 5
}
